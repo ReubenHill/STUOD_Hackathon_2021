{
 "cells": [
  {
   "cell_type": "code",
   "execution_count": null,
   "metadata": {},
   "outputs": [],
   "source": [
    "%matplotlib inline\n",
    "import xarray as xr\n",
    "import matplotlib.pyplot as plt\n",
    "import matplotlib.patches as patches"
   ]
  },
  {
   "cell_type": "code",
   "execution_count": null,
   "metadata": {},
   "outputs": [],
   "source": [
    "sst_dataset = xr.open_dataset('../datasets/elnino/cci_sst_anomalies_1981_2018.nc')\n",
    "sst_dataset"
   ]
  },
  {
   "cell_type": "code",
   "execution_count": null,
   "metadata": {},
   "outputs": [],
   "source": [
    "sst_anomaly = sst_dataset['sst_anomaly']\n",
    "timedata = sst_dataset['time']\n",
    "sst_anomaly"
   ]
  },
  {
   "cell_type": "code",
   "execution_count": null,
   "metadata": {},
   "outputs": [],
   "source": [
    "# Restrict area to Nino 3.4\n",
    "nino34 = sst_anomaly.sel(lat=slice(-5,5), lon=slice(190,240))\n",
    "\n",
    "# Compute Nino 3.4 index\n",
    "nino34_timeseries = nino34.mean('lat').mean('lon')\n",
    "nino34_index = nino34_timeseries.rolling(time=5).mean().dropna(\"time\")\n",
    "\n",
    "# Plot Nino 3.4 index timeseries\n",
    "fig = plt.figure(figsize=(8, 4))\n",
    "ax = fig.gca()\n",
    "nino34_index.plot(ax=ax)\n",
    "\n",
    "# Plot threshold lines\n",
    "start_time, end_time = nino34_index.get_index('time')[0], nino34_index.get_index('time')[-1]\n",
    "plt.hlines(0.4, start_time, end_time, colors = 'black', linestyles = 'dashed')\n",
    "plt.hlines(0, start_time, end_time, colors = 'black')\n",
    "plt.hlines(-0.4, start_time, end_time, colors = 'black', linestyles = 'dashed')\n",
    "plt.xlabel('date', fontsize=12)\n",
    "plt.ylabel(b'Ni\\xc3\\xb1o-3.4 index'.decode(\"utf-8\"), fontsize=12)\n",
    "plt.show()"
   ]
  },
  {
   "cell_type": "code",
   "execution_count": null,
   "metadata": {},
   "outputs": [],
   "source": [
    "import numpy as np\n",
    "import sklearn\n",
    "from sklearn.model_selection import train_test_split\n",
    "from sklearn.linear_model import LinearRegression"
   ]
  },
  {
   "cell_type": "code",
   "execution_count": null,
   "metadata": {},
   "outputs": [],
   "source": [
    "# Generate history dataset\n",
    "tmin = 1\n",
    "timelength = 12\n",
    "tmax = tmin + timelength\n",
    "nino34_hist = np.array([nino34_index.isel(time=slice(t0,444-tmax+t0)) for t0 in range(tmax-tmin)]).T\n",
    "nino34_hist.shape"
   ]
  },
  {
   "cell_type": "code",
   "execution_count": null,
   "metadata": {},
   "outputs": [],
   "source": [
    "X = nino34_hist\n",
    "B = nino34_index.isel(time=slice(tmax,444))\n",
    "\n",
    "train_size = 0.5\n",
    "nsplit = int(round(nino34_hist.shape[0]*train_size))\n",
    "train_X, train_B = X[:nsplit], B[:nsplit]\n",
    "test_X, test_B = X[nsplit:], B[nsplit:]"
   ]
  },
  {
   "cell_type": "code",
   "execution_count": null,
   "metadata": {},
   "outputs": [],
   "source": [
    "print(train_X.shape)\n",
    "print(test_X.shape)\n",
    "print(X.shape)"
   ]
  },
  {
   "cell_type": "code",
   "execution_count": null,
   "metadata": {},
   "outputs": [],
   "source": [
    "# Set up linear model\n",
    "model_lr = LinearRegression()\n",
    "# Fit linear model on training data\n",
    "model_lr.fit(train_X, train_B)"
   ]
  },
  {
   "cell_type": "code",
   "execution_count": null,
   "metadata": {},
   "outputs": [],
   "source": [
    "def plot_subgrid(f, X, B, tmax, train_size=0.75, samplesize=4):\n",
    "    \"\"\"f is a function that takes an array of size (n_samples, n_features) and outputs\n",
    "       an array of size (n_samples, n_features)\n",
    "       X, B are arrays of size (n_samples, n_features)\n",
    "    \"\"\"\n",
    "    Bpred = f(X)\n",
    "#     print(Bpred.shape)\n",
    "    tspan = np.linspace(0, tmax, X.shape[0])\n",
    "    nsplit = tmax*train_size\n",
    "    fig = plt.figure(figsize=(20, 6))\n",
    "    ax = plt.subplot(2, 2, 1)\n",
    "    plt.plot(timedata[tmax+4:], Bpred, label='predicted')\n",
    "    plt.plot(timedata[tmax+4:], B, label='truth')\n",
    "    Bmax = np.max(np.stack([Bpred, B]))\n",
    "    Bmin = np.min(np.stack([Bpred, B]))\n",
    "#     plt.vlines(timedata[nsplit+4], Bmin-1, Bmax+1, linestyles='dashed')\n",
    "    ax.set_ylabel(fr'$B_{1}$', fontsize=15)\n",
    "    ax.set_xlabel('time', fontsize=15)\n",
    "    plt.show()\n",
    "    \n",
    "plot_subgrid(model_lr.predict, X, B, tmax, train_size)"
   ]
  },
  {
   "cell_type": "code",
   "execution_count": null,
   "metadata": {},
   "outputs": [],
   "source": [
    "from sklearn.metrics import r2_score\n",
    "\n",
    "Bpred = model_lr.predict(test_X)\n",
    "R2_lr = r2_score(test_B, Bpred)\n",
    "print(f\"Score for linear regression: {R2_lr}\")"
   ]
  },
  {
   "cell_type": "code",
   "execution_count": null,
   "metadata": {},
   "outputs": [],
   "source": []
  }
 ],
 "metadata": {
  "kernelspec": {
   "display_name": "Python 3",
   "language": "python",
   "name": "python3"
  },
  "language_info": {
   "codemirror_mode": {
    "name": "ipython",
    "version": 3
   },
   "file_extension": ".py",
   "mimetype": "text/x-python",
   "name": "python",
   "nbconvert_exporter": "python",
   "pygments_lexer": "ipython3",
   "version": "3.8.5"
  }
 },
 "nbformat": 4,
 "nbformat_minor": 4
}
