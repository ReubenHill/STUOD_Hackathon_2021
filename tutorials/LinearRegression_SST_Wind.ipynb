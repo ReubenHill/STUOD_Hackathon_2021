{
 "cells": [
  {
   "cell_type": "code",
   "execution_count": null,
   "metadata": {},
   "outputs": [],
   "source": [
    "%matplotlib inline\n",
    "import xarray as xr\n",
    "import matplotlib.pyplot as plt\n",
    "import matplotlib.patches as patches"
   ]
  },
  {
   "cell_type": "code",
   "execution_count": null,
   "metadata": {},
   "outputs": [],
   "source": [
    "# Open SST and Wind together into a single xarray Dataset\n",
    "mfdataset = xr.open_mfdataset(['../datasets/elnino/cci_sss_anomalies_2010_2019.nc', '../datasets/elnino/cci_sst_anomalies_1981_2018.nc','../datasets/elnino/ifremer_wind_anomalies_1992_2019.nc'])\n",
    "mfdataset"
   ]
  },
  {
   "cell_type": "code",
   "execution_count": null,
   "metadata": {},
   "outputs": [],
   "source": [
    "sst_anomaly = mfdataset['sst_anomaly']\n",
    "wind_anomaly = mfdataset['eastward_wind_anomaly']\n",
    "timedata = mfdataset['time']\n",
    "wind_anomaly\n",
    "timedata[126]"
   ]
  },
  {
   "cell_type": "code",
   "execution_count": null,
   "metadata": {},
   "outputs": [],
   "source": [
    "# Restrict area to Nino 3.4\n",
    "nino34 = sst_anomaly.sel(time=slice(\"1992-01-01\",\"2018-12-01\"), lat=slice(-5,5), lon=slice(190,240))\n",
    "# wind34 = wind_anomaly.sel(time=slice(\"1992-01-01\",\"2018-12-01\"), lat=slice(-5,5), lon=slice(190,240))\n",
    "wind34 = wind_anomaly.sel(time=slice(\"1992-01-01\",\"2018-12-01\"), lat=slice(-5,5), lon=slice(160,210))\n",
    "time34 = timedata.sel(time=slice(\"1992-01-01\",\"2018-12-01\"))\n",
    "\n",
    "# Compute Nino 3.4 index\n",
    "nino34_timeseries = nino34.mean('lat').mean('lon')\n",
    "nino34_index = nino34_timeseries.rolling(time=5).mean().dropna(\"time\")\n",
    "wind34_timeseries = wind34.mean('lat').mean('lon')\n",
    "wind34_index = wind34_timeseries.rolling(time=5).mean().dropna(\"time\")\n",
    "\n",
    "# Plot Nino 3.4 index timeseries\n",
    "fig = plt.figure(figsize=(8, 4))\n",
    "ax = fig.gca()\n",
    "\n",
    "nino34_index.plot(ax=ax)\n",
    "# Plot threshold lines\n",
    "start_time, end_time = nino34_index.get_index('time')[0], nino34_index.get_index('time')[-1]\n",
    "plt.hlines(0.4, start_time, end_time, colors = 'black', linestyles = 'dashed')\n",
    "plt.hlines(0, start_time, end_time, colors = 'black')\n",
    "plt.hlines(-0.4, start_time, end_time, colors = 'black', linestyles = 'dashed')\n",
    "plt.xlabel('date', fontsize=12)\n",
    "plt.ylabel(b'Ni\\xc3\\xb1o-3.4 index'.decode(\"utf-8\"), fontsize=12)\n",
    "\n",
    "wind34_index.plot(ax=ax)\n",
    "# Plot threshold lines\n",
    "start_time, end_time = wind34_index.get_index('time')[0], wind34_index.get_index('time')[-1]\n",
    "plt.hlines(0.4, start_time, end_time, colors = 'black', linestyles = 'dashed')\n",
    "plt.hlines(0, start_time, end_time, colors = 'black')\n",
    "plt.hlines(-0.4, start_time, end_time, colors = 'black', linestyles = 'dashed')\n",
    "plt.xlabel('date', fontsize=12)\n",
    "plt.ylabel(b'Ni\\xc3\\xb1o-3.4 index'.decode(\"utf-8\"), fontsize=12)\n",
    "\n",
    "plt.show()"
   ]
  },
  {
   "cell_type": "code",
   "execution_count": null,
   "metadata": {},
   "outputs": [],
   "source": [
    "import numpy as np\n",
    "import sklearn\n",
    "from sklearn.model_selection import train_test_split\n",
    "from sklearn.linear_model import LinearRegression"
   ]
  },
  {
   "cell_type": "code",
   "execution_count": null,
   "metadata": {},
   "outputs": [],
   "source": [
    "# Generate history dataset\n",
    "tmin = 6\n",
    "timelength = 12\n",
    "timelength_ext = 24\n",
    "tmax = tmin + timelength\n",
    "tmax_ext = tmin + timelength_ext\n",
    "nino34_hist = np.array([nino34_index.isel(time=slice(t0,320-tmax+t0)) for t0 in range(tmax-tmin)]).T\n",
    "nino34_hist_ext = np.array([nino34_index.isel(time=slice(t0,320-tmax_ext+t0)) for t0 in range(tmax_ext-tmin)]).T\n",
    "wind34_hist = np.array([wind34_index.isel(time=slice(t0,320-tmax+t0)) for t0 in range(tmax-tmin)]).T\n",
    "total_hist = np.append(nino34_hist, wind34_hist, axis=1)\n",
    "total_hist.shape"
   ]
  },
  {
   "cell_type": "code",
   "execution_count": null,
   "metadata": {},
   "outputs": [],
   "source": [
    "X0 = nino34_hist\n",
    "X1 = total_hist\n",
    "X2 = nino34_hist_ext\n",
    "B = nino34_index.isel(time=slice(tmax,320))\n",
    "B_ext = nino34_index.isel(time=slice(tmax_ext,320))\n",
    "\n",
    "train_size = 0.7\n",
    "nsplit = int(round(total_hist.shape[0]*train_size))\n",
    "train_X0, train_B = X0[:nsplit], B[:nsplit]\n",
    "test_X0, test_B = X0[nsplit:], B[nsplit:]\n",
    "train_X1, train_B = X1[:nsplit], B[:nsplit]\n",
    "test_X1, test_B = X1[nsplit:], B[nsplit:]\n",
    "train_X2, train_B2 = X2[:nsplit], B_ext[:nsplit]\n",
    "test_X2, test_B2 = X2[nsplit:], B_ext[nsplit:]"
   ]
  },
  {
   "cell_type": "code",
   "execution_count": null,
   "metadata": {},
   "outputs": [],
   "source": [
    "# Set up linear model\n",
    "model_lr0 = LinearRegression()\n",
    "# Fit linear model on training data\n",
    "model_lr0.fit(train_X0, train_B)\n",
    "\n",
    "# Set up linear model\n",
    "model_lr1 = LinearRegression()\n",
    "# Fit linear model on training data\n",
    "model_lr1.fit(train_X1, train_B)\n",
    "\n",
    "# Set up linear model\n",
    "model_lr2 = LinearRegression()\n",
    "# Fit linear model on training data\n",
    "model_lr2.fit(train_X2, train_B2)"
   ]
  },
  {
   "cell_type": "code",
   "execution_count": null,
   "metadata": {},
   "outputs": [],
   "source": [
    "def plot_subgrid(f, X, B, tmax, train_size=0.75, samplesize=4):\n",
    "    \"\"\"f is a function that takes an array of size (n_samples, n_features) and outputs\n",
    "       an array of size (n_samples, n_features)\n",
    "       X, B are arrays of size (n_samples, n_features)\n",
    "    \"\"\"\n",
    "    Bpred = f(X)\n",
    "#     print(Bpred.shape)\n",
    "    tspan = np.linspace(0, tmax, X.shape[0])\n",
    "    nsplit = int(round(nino34_hist.shape[0]*train_size))\n",
    "    fig = plt.figure(figsize=(20, 6))\n",
    "    ax = plt.subplot(2, 2, 1)\n",
    "    plt.plot(time34[tmax+4:], Bpred, label='predicted')\n",
    "    plt.plot(time34[tmax+4:], B, label='truth')\n",
    "    Bmax = np.max(np.stack([Bpred, B]))\n",
    "    Bmin = np.min(np.stack([Bpred, B]))\n",
    "    plt.vlines(time34[nsplit+4], Bmin-1, Bmax+1, linestyles='dashed')\n",
    "    ax.set_ylabel(fr'$B_{1}$', fontsize=15)\n",
    "    ax.set_xlabel('time', fontsize=15)\n",
    "    plt.show()\n",
    "    \n",
    "plot_subgrid(model_lr0.predict, X0, B, tmax, train_size)\n",
    "plot_subgrid(model_lr1.predict, X1, B, tmax, train_size)\n",
    "plot_subgrid(model_lr2.predict, X2, B_ext, tmax_ext, train_size)"
   ]
  },
  {
   "cell_type": "code",
   "execution_count": null,
   "metadata": {},
   "outputs": [],
   "source": [
    "from sklearn.metrics import r2_score\n",
    "\n",
    "Bpred0 = model_lr0.predict(test_X0)\n",
    "R2_lr0 = r2_score(test_B, Bpred0)\n",
    "print(f\"Score for linear regression: {R2_lr0}\")\n",
    "\n",
    "Bpred1 = model_lr1.predict(test_X1)\n",
    "R2_lr1 = r2_score(test_B, Bpred1)\n",
    "print(f\"Score for linear regression: {R2_lr1}\")\n",
    "\n",
    "Bpred2 = model_lr2.predict(test_X2)\n",
    "R2_lr2 = r2_score(test_B2, Bpred2)\n",
    "print(f\"Score for linear regression: {R2_lr2}\")"
   ]
  },
  {
   "cell_type": "code",
   "execution_count": null,
   "metadata": {},
   "outputs": [],
   "source": [
    "from sklearn.linear_model import Lasso\n",
    "\n",
    "a0 = a1 = a2 = 0.05\n",
    "\n",
    "# Set up lasso model \n",
    "model_lasso0 = Lasso(alpha=a0)\n",
    "# Fit lasso on training data\n",
    "model_lasso0.fit(train_X0, train_B)\n",
    "\n",
    "# Set up lasso model \n",
    "model_lasso1 = Lasso(alpha=a1)\n",
    "# Fit lasso on training data\n",
    "model_lasso1.fit(train_X1, train_B)\n",
    "\n",
    "# Set up lasso model \n",
    "model_lasso2 = Lasso(alpha=a2)\n",
    "# Fit lasso on training data\n",
    "model_lasso2.fit(train_X2, train_B2)"
   ]
  },
  {
   "cell_type": "code",
   "execution_count": null,
   "metadata": {
    "scrolled": true
   },
   "outputs": [],
   "source": [
    "plt.bar(np.arange(1, timelength, 1), model_lasso0.coef_[0])\n",
    "plt.hlines(0, xmin=0, xmax=timelength, linewidth=0.2)\n",
    "plt.xlabel(\"components of X\", fontsize=14)\n",
    "plt.ylabel(\"coefficient\", fontsize=14)\n",
    "plt.title(r\"coefficients use to predict $B_1$\", fontsize=14)\n",
    "plt.show()\n",
    "print(f\"Components of X with non-zero coefficients: {[i+1 for i in np.where(model_lasso0.coef_[0] != 0)[0]]}\")\n",
    "\n",
    "plt.bar(np.arange(1, timelength, 1), model_lasso1.coef_[0])\n",
    "plt.hlines(0, xmin=0, xmax=timelength, linewidth=0.2)\n",
    "plt.xlabel(\"components of X\", fontsize=14)\n",
    "plt.ylabel(\"coefficient\", fontsize=14)\n",
    "plt.title(r\"coefficients use to predict $B_1$\", fontsize=14)\n",
    "plt.show()\n",
    "print(f\"Components of X with non-zero coefficients: {[i+1 for i in np.where(model_lasso1.coef_[0] != 0)[0]]}\")\n",
    "\n",
    "plt.bar(np.arange(1, timelength, 1), model_lasso2.coef_[0])\n",
    "plt.hlines(0, xmin=0, xmax=timelength, linewidth=0.2)\n",
    "plt.xlabel(\"components of X\", fontsize=14)\n",
    "plt.ylabel(\"coefficient\", fontsize=14)\n",
    "plt.title(r\"coefficients use to predict $B_1$\", fontsize=14)\n",
    "plt.show()\n",
    "print(f\"Components of X with non-zero coefficients: {[i+1 for i in np.where(model_lasso2.coef_[0] != 0)[0]]}\")"
   ]
  },
  {
   "cell_type": "code",
   "execution_count": null,
   "metadata": {},
   "outputs": [],
   "source": [
    "plot_subgrid(model_lasso0.predict, X0, B, tmax)\n",
    "plot_subgrid(model_lasso1.predict, X1, B, tmax)\n",
    "plot_subgrid(model_lasso2.predict, X2, B_ext, tmax_ext)"
   ]
  },
  {
   "cell_type": "code",
   "execution_count": null,
   "metadata": {},
   "outputs": [],
   "source": [
    "Bpred0 = model_lasso0.predict(test_X0)\n",
    "R2_lasso0 = r2_score(test_B, Bpred0)\n",
    "print(f\"Score for lasso: {R2_lasso0}\")\n",
    "\n",
    "Bpred1 = model_lasso1.predict(test_X1)\n",
    "R2_lasso1 = r2_score(test_B, Bpred1)\n",
    "print(f\"Score for lasso: {R2_lasso1}\")\n",
    "\n",
    "Bpred2 = model_lasso2.predict(test_X2)\n",
    "R2_lasso2 = r2_score(test_B2, Bpred2)\n",
    "print(f\"Score for lasso: {R2_lasso2}\")"
   ]
  },
  {
   "cell_type": "code",
   "execution_count": null,
   "metadata": {},
   "outputs": [],
   "source": [
    "from sklearn.tree import DecisionTreeRegressor\n",
    "from sklearn.ensemble import RandomForestRegressor\n",
    "\n",
    "# Set up decision tree\n",
    "model_dt0 = DecisionTreeRegressor()\n",
    "# Fit decision tree\n",
    "model_dt0.fit(train_X0, train_B)\n",
    "\n",
    "# May take 20 ~ 30 seconds to compute\n",
    "model_rf0 = RandomForestRegressor(max_depth=10)\n",
    "model_rf0.fit(train_X0, train_B)\n",
    "\n",
    "# Set up decision tree\n",
    "model_dt1 = DecisionTreeRegressor()\n",
    "# Fit decision tree\n",
    "model_dt1.fit(train_X1, train_B)\n",
    "\n",
    "# May take 20 ~ 30 seconds to compute\n",
    "model_rf1 = RandomForestRegressor(max_depth=10)\n",
    "model_rf1.fit(train_X1, train_B)\n",
    "\n",
    "# Set up decision tree\n",
    "model_dt2 = DecisionTreeRegressor()\n",
    "# Fit decision tree\n",
    "model_dt2.fit(train_X2, train_B2)\n",
    "\n",
    "# May take 20 ~ 30 seconds to compute\n",
    "model_rf2 = RandomForestRegressor(max_depth=10)\n",
    "model_rf2.fit(train_X2, train_B2)"
   ]
  },
  {
   "cell_type": "code",
   "execution_count": null,
   "metadata": {},
   "outputs": [],
   "source": [
    "# Plot predictions\n",
    "plot_subgrid(model_dt0.predict, X0, B, tmax)\n",
    "plot_subgrid(model_rf0.predict, X0, B, tmax)\n",
    "plot_subgrid(model_dt1.predict, X1, B, tmax)\n",
    "plot_subgrid(model_rf1.predict, X1, B, tmax)\n",
    "plot_subgrid(model_dt2.predict, X2, B_ext, tmax_ext)\n",
    "plot_subgrid(model_rf2.predict, X2, B_ext, tmax_ext)"
   ]
  },
  {
   "cell_type": "code",
   "execution_count": null,
   "metadata": {},
   "outputs": [],
   "source": [
    "Bpred0 = model_dt0.predict(test_X0)\n",
    "R2_dt0 = r2_score(test_B, Bpred0)\n",
    "print(f\"Score for decision tree: {R2_dt0}\")\n",
    "\n",
    "Bpred0 = model_rf0.predict(test_X0)\n",
    "R2_rf0 = r2_score(test_B, Bpred0)\n",
    "print(f\"Score for lasso: {R2_rf0}\")\n",
    "\n",
    "Bpred1 = model_dt1.predict(test_X1)\n",
    "R2_dt1 = r2_score(test_B, Bpred1)\n",
    "print(f\"Score for decision tree: {R2_dt1}\")\n",
    "\n",
    "Bpred1 = model_rf1.predict(test_X1)\n",
    "R2_rf1 = r2_score(test_B, Bpred1)\n",
    "print(f\"Score for lasso: {R2_rf1}\")\n",
    "\n",
    "Bpred2 = model_dt1.predict(test_X2)\n",
    "R2_dt2 = r2_score(test_B2, Bpred2)\n",
    "print(f\"Score for decision tree: {R2_dt2}\")\n",
    "\n",
    "Bpred2 = model_rf1.predict(test_X2)\n",
    "R2_rf2 = r2_score(test_B2, Bpred2)\n",
    "print(f\"Score for lasso: {R2_rf2}\")"
   ]
  },
  {
   "cell_type": "code",
   "execution_count": null,
   "metadata": {},
   "outputs": [],
   "source": []
  }
 ],
 "metadata": {
  "kernelspec": {
   "display_name": "Python 3",
   "language": "python",
   "name": "python3"
  },
  "language_info": {
   "codemirror_mode": {
    "name": "ipython",
    "version": 3
   },
   "file_extension": ".py",
   "mimetype": "text/x-python",
   "name": "python",
   "nbconvert_exporter": "python",
   "pygments_lexer": "ipython3",
   "version": "3.8.5"
  }
 },
 "nbformat": 4,
 "nbformat_minor": 4
}
