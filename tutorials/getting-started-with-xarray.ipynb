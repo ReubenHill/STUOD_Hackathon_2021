{
 "cells": [
  {
   "cell_type": "markdown",
   "metadata": {},
   "source": [
    "# Getting started with `xarray`\n",
    "\n",
    "The El-Nino dataset is provided in the form of a netCDF file, which can be accessed in python using modules such as `xarray` and `netCDF4-python`. Here, we will quickly go over how to use `xarray` to access these data to get you started with the hackathon."
   ]
  },
  {
   "cell_type": "code",
   "execution_count": null,
   "metadata": {},
   "outputs": [],
   "source": [
    "%matplotlib inline\n",
    "import xarray as xr\n",
    "import matplotlib.pyplot as plt\n",
    "import matplotlib.patches as patches"
   ]
  },
  {
   "cell_type": "markdown",
   "metadata": {},
   "source": [
    "As an example, we will work with the sea surface temperature anomaly data from the El-Nino dataset."
   ]
  },
  {
   "cell_type": "markdown",
   "metadata": {},
   "source": [
    "NetCDF files can be read in `xarray` using `xarray.open_dataset`, which returns an `xarray.Dataset` object. These are similar to `pandas.DataFrame` objects as we shall see."
   ]
  },
  {
   "cell_type": "code",
   "execution_count": null,
   "metadata": {},
   "outputs": [],
   "source": [
    "sst_dataset = xr.open_dataset('../datasets/elnino/cci_sst_anomalies_1981_2018.nc')\n",
    "sst_dataset"
   ]
  },
  {
   "cell_type": "markdown",
   "metadata": {},
   "source": [
    "It is also possible to read multiple files at once using `xarray.open_mfdataset`. To see how this works, let's also download the sea surface salinity data from the El Nino dataset and open this together with the sea surface temperature data using `open_mfdataset`."
   ]
  },
  {
   "cell_type": "code",
   "execution_count": null,
   "metadata": {},
   "outputs": [],
   "source": [
    "# Open SST and SSS together into a single xarray Dataset\n",
    "mfdataset = xr.open_mfdataset(['../datasets/elnino/cci_sss_anomalies_2010_2019.nc', '../datasets/elnino/cci_sst_anomalies_1981_2018.nc'])\n",
    "mfdataset"
   ]
  },
  {
   "cell_type": "markdown",
   "metadata": {},
   "source": [
    "Two key properties of an xarray dataset are the *coordinates* and *data variables*. `Data variables` are the fields such as SST and SSS anomalies that are stored in the dataset, sort of like the columns in a pandas dataframe, and the `coordinates` are multi-dimentional indices for which we can access the values of these fields, such as the latitude, longitude and time.\n",
    "\n",
    "![xarray image](../images/xarray.png)\n",
    "\n",
    "Accessing the data variables in a dataset is similar to how we access columns in a pandas dataframe."
   ]
  },
  {
   "cell_type": "code",
   "execution_count": null,
   "metadata": {},
   "outputs": [],
   "source": [
    "sst_anomaly = mfdataset['sst_anomaly']\n",
    "sst_anomaly"
   ]
  },
  {
   "cell_type": "markdown",
   "metadata": {},
   "source": [
    "The result is a multidimensional array that is indexed by the `coordinates` of the dataset. To access the coordinates, we use the `sel` or `isel` method, which is analogous to the `loc`/`iloc` method in `pandas`. The only difference is in whether we access the data by position or by name."
   ]
  },
  {
   "cell_type": "code",
   "execution_count": null,
   "metadata": {},
   "outputs": [],
   "source": [
    "# Access SST anomaly field at the first date it was measured\n",
    "sst_anomaly.isel(time=0) # Equivalent to `sst_anomaly.sel(time='1981-09-01')`"
   ]
  },
  {
   "cell_type": "markdown",
   "metadata": {},
   "source": [
    "Below, we plot the monthly mean SST anomaly field for `2015-10` and `2013-01`, where there was a strong El Nino event and no El Nino event respectively. We also put a box around the Nino 3.4 region ($-5^\\circ : 5^\\circ N$, $190^\\circ : 240^\\circ E$) to highlight the difference."
   ]
  },
  {
   "cell_type": "code",
   "execution_count": null,
   "metadata": {},
   "outputs": [],
   "source": [
    "def plot_sst(date, title):\n",
    "    \"\"\"\n",
    "    Args:\n",
    "        date: string of form 'yyyy-mm'\n",
    "        title: string\n",
    "    \"\"\"\n",
    "    fig = plt.figure(figsize=(10, 5))\n",
    "    ax = fig.gca()\n",
    "    \n",
    "    # Plot monthly mean SST anomaly field\n",
    "    sst_anomaly.sel(time=date).mean('time').plot(ax=ax, cmap='RdBu_r', vmin = -3, vmax = 3)\n",
    "    \n",
    "    # Put box around Nino 3.4 region\n",
    "    rect = patches.Rectangle((190, -5), 50, 10, linewidth=2, edgecolor='lime', facecolor='none')\n",
    "    ax.add_patch(rect)\n",
    "    \n",
    "    plt.title(title, fontsize=14)\n",
    "    plt.xlabel('longitude', fontsize=12)\n",
    "    plt.ylabel('latitude', fontsize=12)\n",
    "    plt.show()\n",
    "    \n",
    "date_1, date_2 = '2015-10', '2013-01'\n",
    "plot_sst(date_1, f'Sea Surface Temperature Anomaly ({date_1})')\n",
    "plot_sst(date_2, f'Sea Surface Temperature Anomaly ({date_2})')\n",
    "date_3 = '2016-01'\n",
    "plot_sst(date_3, f'Sea Surface Temperature Anomaly ({date_3})')"
   ]
  },
  {
   "cell_type": "markdown",
   "metadata": {},
   "source": [
    "We can clearly see a difference when there is an El Nino event vs when there is no El Nino event!\n",
    "\n",
    "It is also possible to slice the field to restrict the area to just Nino 3.4 instead of the whole globe."
   ]
  },
  {
   "cell_type": "code",
   "execution_count": null,
   "metadata": {},
   "outputs": [],
   "source": [
    "# Restrict area to Nino 3.4\n",
    "nino34 = sst_anomaly.sel(lat=slice(-5,5), lon=slice(190,240))\n",
    "\n",
    "# Plot SST anomaly in Nino 3.4 at the two dates\n",
    "fig = plt.figure(figsize=(17, 1.5))\n",
    "ax1 = plt.subplot(1, 2, 1)\n",
    "ax2 = plt.subplot(1, 2, 2)\n",
    "nino34.sel(time='2015-10').mean('time').plot(ax=ax1, cmap='RdBu_r', vmin = -3, vmax = 3)\n",
    "nino34.sel(time='2013-01').mean('time').plot(ax=ax2, cmap='RdBu_r', vmin = -3, vmax = 3)\n",
    "ax1.set_title('2015-10', fontsize=14)\n",
    "ax1.set_xlabel('longitude', fontsize=12)\n",
    "ax1.set_ylabel('latitude', fontsize=12)\n",
    "ax2.set_title('2013-01', fontsize=14)\n",
    "ax2.set_xlabel('longitude', fontsize=12)\n",
    "ax2.set_ylabel('latitude', fontsize=12)\n",
    "plt.show()"
   ]
  },
  {
   "cell_type": "markdown",
   "metadata": {},
   "source": [
    "The Nino 3.4 index is defined as the 5 month rolling average of the SST anomaly field restricted to the Nino 3.4 region, which we compute below. An El Nino or La Nina event is characterised by periods where the Nino 3.4 index exceeds $\\pm 0.4^\\circ C$ for a period of $6$ months or longer."
   ]
  },
  {
   "cell_type": "code",
   "execution_count": null,
   "metadata": {
    "scrolled": false
   },
   "outputs": [],
   "source": [
    "%matplotlib widget\n",
    "# Compute Nino 3.4 index\n",
    "nino34_timeseries = nino34.mean('lat').mean('lon')\n",
    "nino34_index = nino34_timeseries.rolling(time=5).mean().dropna(\"time\")\n",
    "\n",
    "# Plot Nino 3.4 index timeseries\n",
    "fig = plt.figure(figsize=(8, 4))\n",
    "ax = fig.gca()\n",
    "nino34_index.plot(ax=ax)\n",
    "\n",
    "# Plot threshold lines\n",
    "start_time, end_time = nino34_index.get_index('time')[0], nino34_index.get_index('time')[-1]\n",
    "plt.hlines(0.4, start_time, end_time, colors = 'black', linestyles = 'dashed')\n",
    "plt.hlines(0, start_time, end_time, colors = 'black')\n",
    "plt.hlines(-0.4, start_time, end_time, colors = 'black', linestyles = 'dashed')\n",
    "plt.xlabel('date', fontsize=12)\n",
    "plt.ylabel(b'Ni\\xc3\\xb1o-3.4 index'.decode(\"utf-8\"), fontsize=12)\n",
    "plt.show()"
   ]
  },
  {
   "cell_type": "code",
   "execution_count": null,
   "metadata": {},
   "outputs": [],
   "source": [
    "sss_anomaly = mfdataset['sss_anomaly']\n",
    "sss_anomaly"
   ]
  },
  {
   "cell_type": "code",
   "execution_count": null,
   "metadata": {},
   "outputs": [],
   "source": [
    "%matplotlib inline\n",
    "def plot_sss(date, title):\n",
    "    \"\"\"\n",
    "    Args:\n",
    "        date: string of form 'yyyy-mm'\n",
    "        title: string\n",
    "    \"\"\"\n",
    "    fig = plt.figure(figsize=(10, 5))\n",
    "    ax = fig.gca()\n",
    "    \n",
    "    # Plot monthly mean SST anomaly field\n",
    "    sss_anomaly.sel(time=date).mean('time').plot(ax=ax, cmap='RdBu_r', vmin = -3, vmax = 3)\n",
    "    \n",
    "    # Put box around Nino 3.4 region\n",
    "    rect = patches.Rectangle((190, -5), 50, 10, linewidth=2, edgecolor='lime', facecolor='none')\n",
    "    ax.add_patch(rect)\n",
    "    \n",
    "    plt.title(title, fontsize=14)\n",
    "    plt.xlabel('longitude', fontsize=12)\n",
    "    plt.ylabel('latitude', fontsize=12)\n",
    "    plt.show()\n",
    "    \n",
    "date_1, date_2 = '2015-10', '2013-01'\n",
    "plot_sss(date_1, f'Sea Surface Salinity Anomaly ({date_1})')\n",
    "plot_sss(date_2, f'Sea Surface Salinity Anomaly ({date_2})')\n",
    "date_3 = '2016-01'\n",
    "plot_sss(date_3, f'Sea Surface Salinity Anomaly ({date_3})')"
   ]
  },
  {
   "cell_type": "code",
   "execution_count": null,
   "metadata": {},
   "outputs": [],
   "source": [
    "# Restrict area to Nino 3.4\n",
    "nino34_sss = sss_anomaly.sel(lat=slice(-5,5), lon=slice(190,240))\n",
    "\n",
    "# Plot SST anomaly in Nino 3.4 at the two dates\n",
    "fig = plt.figure(figsize=(17, 1.5))\n",
    "ax1 = plt.subplot(1, 2, 1)\n",
    "ax2 = plt.subplot(1, 2, 2)\n",
    "nino34_sss.sel(time='2015-10').mean('time').plot(ax=ax1, cmap='RdBu_r', vmin = -3, vmax = 3)\n",
    "nino34_sss.sel(time='2013-01').mean('time').plot(ax=ax2, cmap='RdBu_r', vmin = -3, vmax = 3)\n",
    "ax1.set_title('2015-10', fontsize=14)\n",
    "ax1.set_xlabel('longitude', fontsize=12)\n",
    "ax1.set_ylabel('latitude', fontsize=12)\n",
    "ax2.set_title('2013-01', fontsize=14)\n",
    "ax2.set_xlabel('longitude', fontsize=12)\n",
    "ax2.set_ylabel('latitude', fontsize=12)\n",
    "plt.show()"
   ]
  },
  {
   "cell_type": "code",
   "execution_count": null,
   "metadata": {},
   "outputs": [],
   "source": [
    "%matplotlib widget\n",
    "# Compute Nino 3.4 salinity index\n",
    "nino34_sss_timeseries = nino34_sss.mean('lat').mean('lon')\n",
    "# nino34_sss_index = nino34_sss_timeseries.dropna(\"time\").mean(\"time\")\n",
    "\n",
    "# Plot Nino 3.4 index timeseries\n",
    "fig = plt.figure(figsize=(8, 4))\n",
    "ax = fig.gca()\n",
    "nino34_sss_timeseries.plot(ax=ax)\n",
    "\n",
    "# Plot threshold lines\n",
    "start_time, end_time = nino34_sss_timeseries.get_index('time')[0], nino34_sss_timeseries.get_index('time')[-1]\n",
    "plt.hlines(0.4, start_time, end_time, colors = 'black', linestyles = 'dashed')\n",
    "plt.hlines(0, start_time, end_time, colors = 'black')\n",
    "plt.hlines(-0.4, start_time, end_time, colors = 'black', linestyles = 'dashed')\n",
    "plt.xlabel('date', fontsize=12)\n",
    "plt.ylabel(b'Ni\\xc3\\xb1o-3.4 index'.decode(\"utf-8\"), fontsize=12)\n",
    "plt.show()"
   ]
  },
  {
   "cell_type": "code",
   "execution_count": null,
   "metadata": {},
   "outputs": [],
   "source": []
  },
  {
   "cell_type": "code",
   "execution_count": null,
   "metadata": {},
   "outputs": [],
   "source": []
  }
 ],
 "metadata": {
  "kernelspec": {
   "display_name": "Python 3",
   "language": "python",
   "name": "python3"
  },
  "language_info": {
   "codemirror_mode": {
    "name": "ipython",
    "version": 3
   },
   "file_extension": ".py",
   "mimetype": "text/x-python",
   "name": "python",
   "nbconvert_exporter": "python",
   "pygments_lexer": "ipython3",
   "version": "3.7.3"
  }
 },
 "nbformat": 4,
 "nbformat_minor": 4
}
